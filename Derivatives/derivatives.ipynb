{
 "cells": [
  {
   "cell_type": "markdown",
   "id": "b58d9a75",
   "metadata": {},
   "source": [
    "## Finding symbolic derivatives\n"
   ]
  },
  {
   "cell_type": "markdown",
   "id": "ec9e16f4",
   "metadata": {},
   "source": [
    "In backprop it is useful to know the derivative of simple functions at any input value. Put another way, we would like to know the 'symbolic' derivative rather than the 'arithmetic' derivative. An example of a symbolic derivative is,  ∂𝐽(𝑤)∂𝑤=2𝑤\n",
    " , the derivative of  𝐽(𝑤)=𝑤2\n",
    "  above. With the symbolic derivative you can find the value of the derivative at any input value  𝑤\n",
    " .\n",
    "\n",
    "If you have taken a calculus course, you are familiar with the many differentiation rules that mathematicians have developed to solve for a derivative given an expression. Well, it turns out this process has been automated with symbolic differentiation programs. An example of this in python is the SymPy library. Let's take a look at how to use this."
   ]
  },
  {
   "cell_type": "code",
   "execution_count": 11,
   "id": "720c40dc",
   "metadata": {},
   "outputs": [],
   "source": [
    "from sympy import symbols, diff"
   ]
  },
  {
   "cell_type": "markdown",
   "id": "9b791bf0",
   "metadata": {},
   "source": [
    "### $J = w^2$\n"
   ]
  },
  {
   "cell_type": "code",
   "execution_count": 14,
   "id": "59be3d62",
   "metadata": {},
   "outputs": [],
   "source": [
    "J, w = symbols('J, w')"
   ]
  },
  {
   "cell_type": "code",
   "execution_count": 17,
   "id": "66b8db45",
   "metadata": {},
   "outputs": [],
   "source": [
    "J = w**2"
   ]
  },
  {
   "cell_type": "code",
   "execution_count": 18,
   "id": "d3846d6d",
   "metadata": {},
   "outputs": [
    {
     "data": {
      "text/latex": [
       "$\\displaystyle 2 w$"
      ],
      "text/plain": [
       "2*w"
      ]
     },
     "execution_count": 18,
     "metadata": {},
     "output_type": "execute_result"
    }
   ],
   "source": [
    "dj_dw = diff(J, w)\n",
    "dj_dw"
   ]
  },
  {
   "cell_type": "code",
   "execution_count": 19,
   "id": "bdf0fc55",
   "metadata": {},
   "outputs": [
    {
     "data": {
      "text/latex": [
       "$\\displaystyle 4$"
      ],
      "text/plain": [
       "4"
      ]
     },
     "execution_count": 19,
     "metadata": {},
     "output_type": "execute_result"
    }
   ],
   "source": [
    "dj_dw.subs([(w,2)])"
   ]
  },
  {
   "cell_type": "code",
   "execution_count": 20,
   "id": "396a108b",
   "metadata": {},
   "outputs": [
    {
     "data": {
      "text/latex": [
       "$\\displaystyle 8$"
      ],
      "text/plain": [
       "8"
      ]
     },
     "execution_count": 20,
     "metadata": {},
     "output_type": "execute_result"
    }
   ],
   "source": [
    "dj_dw.subs([(w,4)])"
   ]
  },
  {
   "cell_type": "code",
   "execution_count": 22,
   "id": "2bb5442f",
   "metadata": {},
   "outputs": [
    {
     "data": {
      "text/latex": [
       "$\\displaystyle -4$"
      ],
      "text/plain": [
       "-4"
      ]
     },
     "execution_count": 22,
     "metadata": {},
     "output_type": "execute_result"
    }
   ],
   "source": [
    "dj_dw.subs([(w,-2)])"
   ]
  },
  {
   "cell_type": "markdown",
   "id": "fa97b5de",
   "metadata": {},
   "source": [
    "Compare this with the arithmetic calculation"
   ]
  },
  {
   "cell_type": "code",
   "execution_count": 24,
   "id": "246a42e3",
   "metadata": {},
   "outputs": [
    {
     "name": "stdout",
     "output_type": "stream",
     "text": [
      "J = 4, J_epsilon = 4.004001, dJ_dw ~= k = 4.000999999999699 \n"
     ]
    }
   ],
   "source": [
    "J = (2)**2    #taking w as 2\n",
    "J_epsilon = (2+0.001)**2\n",
    "k = (J_epsilon - J)/0.001\n",
    "print(f\"J = {J}, J_epsilon = {J_epsilon}, dJ_dw ~= k = {k} \")"
   ]
  },
  {
   "cell_type": "markdown",
   "id": "6959f19b",
   "metadata": {},
   "source": [
    "## $J = \\frac{1}{w^2}$\n"
   ]
  },
  {
   "cell_type": "code",
   "execution_count": 26,
   "id": "5d41c82b",
   "metadata": {},
   "outputs": [],
   "source": [
    "J, w = symbols('J, w')"
   ]
  },
  {
   "cell_type": "code",
   "execution_count": 27,
   "id": "305a8406",
   "metadata": {},
   "outputs": [],
   "source": [
    "J = 1/w**2"
   ]
  },
  {
   "cell_type": "code",
   "execution_count": 29,
   "id": "30f54bb5",
   "metadata": {},
   "outputs": [
    {
     "data": {
      "text/latex": [
       "$\\displaystyle - \\frac{2}{w^{3}}$"
      ],
      "text/plain": [
       "-2/w**3"
      ]
     },
     "execution_count": 29,
     "metadata": {},
     "output_type": "execute_result"
    }
   ],
   "source": [
    "dj_dw = diff(J, w)\n",
    "dj_dw"
   ]
  },
  {
   "cell_type": "code",
   "execution_count": 30,
   "id": "c0502776",
   "metadata": {},
   "outputs": [
    {
     "data": {
      "text/latex": [
       "$\\displaystyle - \\frac{1}{4}$"
      ],
      "text/plain": [
       "-1/4"
      ]
     },
     "execution_count": 30,
     "metadata": {},
     "output_type": "execute_result"
    }
   ],
   "source": [
    "dj_dw.subs([(w,2)])"
   ]
  },
  {
   "cell_type": "code",
   "execution_count": 31,
   "id": "4c195521",
   "metadata": {},
   "outputs": [
    {
     "data": {
      "text/latex": [
       "$\\displaystyle - \\frac{1}{32}$"
      ],
      "text/plain": [
       "-1/32"
      ]
     },
     "execution_count": 31,
     "metadata": {},
     "output_type": "execute_result"
    }
   ],
   "source": [
    "dj_dw.subs([(w,4)])"
   ]
  },
  {
   "cell_type": "code",
   "execution_count": 32,
   "id": "fa37a2f4",
   "metadata": {},
   "outputs": [
    {
     "data": {
      "text/latex": [
       "$\\displaystyle \\frac{1}{4}$"
      ],
      "text/plain": [
       "1/4"
      ]
     },
     "execution_count": 32,
     "metadata": {},
     "output_type": "execute_result"
    }
   ],
   "source": [
    "dj_dw.subs([(w,-2)])"
   ]
  },
  {
   "cell_type": "markdown",
   "id": "d7eff5d7",
   "metadata": {},
   "source": [
    "Compare this with the arithmetic calculation"
   ]
  },
  {
   "cell_type": "code",
   "execution_count": 33,
   "id": "f0d96145",
   "metadata": {},
   "outputs": [
    {
     "name": "stdout",
     "output_type": "stream",
     "text": [
      "J = 0.25, J_epsilon = 0.2497501873750781, dJ_dw ~= k = -0.24981262492190792 \n"
     ]
    }
   ],
   "source": [
    "J = 1/(2)**2   #taking w as 2\n",
    "J_epsilon = 1/(2 + 0.001)**2 \n",
    "k = (J_epsilon - J)/0.001\n",
    "print(f\"J = {J}, J_epsilon = {J_epsilon}, dJ_dw ~= k = {k} \")"
   ]
  },
  {
   "cell_type": "markdown",
   "id": "b21f183d",
   "metadata": {},
   "source": [
    " If you have run through the above examples, you understand a derivative describes the change in the output of a function that is a result of a small change in an input to that function. You also can use SymPy in python to find the symbolic derivative of functions. "
   ]
  }
 ],
 "metadata": {
  "kernelspec": {
   "display_name": "venv",
   "language": "python",
   "name": "python3"
  },
  "language_info": {
   "codemirror_mode": {
    "name": "ipython",
    "version": 3
   },
   "file_extension": ".py",
   "mimetype": "text/x-python",
   "name": "python",
   "nbconvert_exporter": "python",
   "pygments_lexer": "ipython3",
   "version": "3.10.11"
  }
 },
 "nbformat": 4,
 "nbformat_minor": 5
}
